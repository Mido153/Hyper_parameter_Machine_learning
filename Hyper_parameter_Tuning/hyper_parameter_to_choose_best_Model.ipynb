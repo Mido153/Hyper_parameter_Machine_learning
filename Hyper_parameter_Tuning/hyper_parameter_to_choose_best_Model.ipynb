{
 "cells": [
  {
   "cell_type": "code",
   "execution_count": 5,
   "id": "1f65b56a",
   "metadata": {},
   "outputs": [],
   "source": [
    "from sklearn.linear_model import LogisticRegression\n",
    "from sklearn.svm import SVC\n",
    "from sklearn.ensemble import RandomForestClassifier\n",
    "from sklearn.model_selection import GridSearchCV"
   ]
  },
  {
   "cell_type": "code",
   "execution_count": 6,
   "id": "227fc4e3",
   "metadata": {},
   "outputs": [],
   "source": [
    "# here i will create a dictionary contain all model \n",
    "model_parameter = {\n",
    "    'svm':{\n",
    "        'model': SVC(gamma='auto'),\n",
    "        'param':{'C':[10,20,30] , 'kernel':['rbf','linear','poly']}\n",
    "    },\n",
    "    'logistic':{\n",
    "        'model': LogisticRegression(solver='liblinear' , multi_class='auto'),\n",
    "        'param':{'C':[10,20,30] }\n",
    "    },\n",
    "    'ran':{\n",
    "        'model': RandomForestClassifier(),\n",
    "        'param':{'n_estimators':[10,20,30] }\n",
    "    }\n",
    "}"
   ]
  },
  {
   "cell_type": "code",
   "execution_count": 9,
   "id": "48625a1c",
   "metadata": {},
   "outputs": [],
   "source": [
    "from sklearn.datasets import load_iris\n",
    "iris = load_iris()"
   ]
  },
  {
   "cell_type": "code",
   "execution_count": 10,
   "id": "c558fa79",
   "metadata": {},
   "outputs": [],
   "source": [
    "# do hyperparameter for every model \n",
    "\n",
    "scores = []\n",
    "for m_n , m_p in model_parameter.items():\n",
    "    clf = GridSearchCV(m_p['model'] , m_p['param'] , cv=5 , return_train_score=False)\n",
    "    clf.fit(iris.data , iris.target)\n",
    "    scores.append(\n",
    "    {\n",
    "        'model_name':m_n,\n",
    "        'best_score':clf.best_score_,\n",
    "        'best_param':clf.best_params_\n",
    "    })"
   ]
  },
  {
   "cell_type": "code",
   "execution_count": 13,
   "id": "06363037",
   "metadata": {},
   "outputs": [
    {
     "data": {
      "text/html": [
       "<div>\n",
       "<style scoped>\n",
       "    .dataframe tbody tr th:only-of-type {\n",
       "        vertical-align: middle;\n",
       "    }\n",
       "\n",
       "    .dataframe tbody tr th {\n",
       "        vertical-align: top;\n",
       "    }\n",
       "\n",
       "    .dataframe thead th {\n",
       "        text-align: right;\n",
       "    }\n",
       "</style>\n",
       "<table border=\"1\" class=\"dataframe\">\n",
       "  <thead>\n",
       "    <tr style=\"text-align: right;\">\n",
       "      <th></th>\n",
       "      <th>model_name</th>\n",
       "      <th>best_score</th>\n",
       "      <th>best_param</th>\n",
       "    </tr>\n",
       "  </thead>\n",
       "  <tbody>\n",
       "    <tr>\n",
       "      <th>0</th>\n",
       "      <td>svm</td>\n",
       "      <td>0.980000</td>\n",
       "      <td>{'C': 10, 'kernel': 'rbf'}</td>\n",
       "    </tr>\n",
       "    <tr>\n",
       "      <th>1</th>\n",
       "      <td>logistic</td>\n",
       "      <td>0.973333</td>\n",
       "      <td>{'C': 30}</td>\n",
       "    </tr>\n",
       "    <tr>\n",
       "      <th>2</th>\n",
       "      <td>ran</td>\n",
       "      <td>0.966667</td>\n",
       "      <td>{'n_estimators': 20}</td>\n",
       "    </tr>\n",
       "  </tbody>\n",
       "</table>\n",
       "</div>"
      ],
      "text/plain": [
       "  model_name  best_score                  best_param\n",
       "0        svm    0.980000  {'C': 10, 'kernel': 'rbf'}\n",
       "1   logistic    0.973333                   {'C': 30}\n",
       "2        ran    0.966667        {'n_estimators': 20}"
      ]
     },
     "execution_count": 13,
     "metadata": {},
     "output_type": "execute_result"
    }
   ],
   "source": [
    "import pandas as pd \n",
    "\n",
    "# in the column names is the data we append in the scores list \n",
    "df = pd.DataFrame(scores , columns=['model_name' , 'best_score' , 'best_param'])\n",
    "df"
   ]
  },
  {
   "cell_type": "code",
   "execution_count": null,
   "id": "709ba6a2",
   "metadata": {},
   "outputs": [],
   "source": []
  }
 ],
 "metadata": {
  "kernelspec": {
   "display_name": "Python 3",
   "language": "python",
   "name": "python3"
  },
  "language_info": {
   "codemirror_mode": {
    "name": "ipython",
    "version": 3
   },
   "file_extension": ".py",
   "mimetype": "text/x-python",
   "name": "python",
   "nbconvert_exporter": "python",
   "pygments_lexer": "ipython3",
   "version": "3.8.8"
  }
 },
 "nbformat": 4,
 "nbformat_minor": 5
}
